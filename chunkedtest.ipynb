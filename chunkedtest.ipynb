{
 "metadata": {
  "language_info": {
   "codemirror_mode": {
    "name": "ipython",
    "version": 3
   },
   "file_extension": ".py",
   "mimetype": "text/x-python",
   "name": "python",
   "nbconvert_exporter": "python",
   "pygments_lexer": "ipython3",
   "version": "3.8.0"
  },
  "orig_nbformat": 2,
  "kernelspec": {
   "name": "python380jvsc74a57bd0c4a6cc1c2df5ddd62d6925b2a7bdee9abacf912eab37272999970e810b9642fd",
   "display_name": "Python 3.8.0 64-bit"
  }
 },
 "nbformat": 4,
 "nbformat_minor": 2,
 "cells": [
  {
   "cell_type": "code",
   "execution_count": 11,
   "metadata": {},
   "outputs": [],
   "source": [
    "import torch"
   ]
  },
  {
   "cell_type": "code",
   "execution_count": 12,
   "metadata": {},
   "outputs": [],
   "source": [
    "exa = torch.Tensor([[1,2,3,4],[0,1,2,3],[2,3,4,5]])\n",
    "mem = torch.Tensor([[1,2,3,4], [0,1,2,3]])"
   ]
  },
  {
   "cell_type": "code",
   "execution_count": 13,
   "metadata": {},
   "outputs": [
    {
     "output_type": "stream",
     "name": "stdout",
     "text": [
      "==========\nMemory  : tensor([[1., 2., 3., 4.]])\nExample : tensor([[1., 2., 3., 4.]])\ndiff    : tensor([[0., 0., 0., 0.]])\ndiff**2 : tensor([[0., 0., 0., 0.]])\nmse     : 0.0\n==========\nMemory  : tensor([[0., 1., 2., 3.]])\nExample : tensor([[1., 2., 3., 4.]])\ndiff    : tensor([[1., 1., 1., 1.]])\ndiff**2 : tensor([[1., 1., 1., 1.]])\nmse     : 1.0\n==========\nMemory  : tensor([[1., 2., 3., 4.]])\nExample : tensor([[0., 1., 2., 3.]])\ndiff    : tensor([[-1., -1., -1., -1.]])\ndiff**2 : tensor([[1., 1., 1., 1.]])\nmse     : 1.0\n==========\nMemory  : tensor([[0., 1., 2., 3.]])\nExample : tensor([[0., 1., 2., 3.]])\ndiff    : tensor([[0., 0., 0., 0.]])\ndiff**2 : tensor([[0., 0., 0., 0.]])\nmse     : 0.0\n==========\nMemory  : tensor([[1., 2., 3., 4.]])\nExample : tensor([[2., 3., 4., 5.]])\ndiff    : tensor([[1., 1., 1., 1.]])\ndiff**2 : tensor([[1., 1., 1., 1.]])\nmse     : 1.0\n==========\nMemory  : tensor([[0., 1., 2., 3.]])\nExample : tensor([[2., 3., 4., 5.]])\ndiff    : tensor([[2., 2., 2., 2.]])\ndiff**2 : tensor([[4., 4., 4., 4.]])\nmse     : 4.0\n"
     ]
    }
   ],
   "source": [
    "matches = []\n",
    "for ex in torch.split(exa, 1, dim=0):\n",
    "    memmatch = []\n",
    "    for me in torch.split(mem, 1, dim=0):\n",
    "        memmatch.append(((ex-me)**2).mean())\n",
    "        print(\"==========\")\n",
    "        print(f\"Memory  : {me}\")\n",
    "        print(f\"Example : {ex}\")\n",
    "        print(f\"diff    : {ex-me}\")\n",
    "        print(f\"diff**2 : {(ex-me)**2}\")\n",
    "        print(f\"mse     : {((ex-me)**2).mean()}\")\n",
    "    matches.append(memmatch)"
   ]
  },
  {
   "cell_type": "code",
   "execution_count": 14,
   "metadata": {},
   "outputs": [
    {
     "output_type": "execute_result",
     "data": {
      "text/plain": [
       "[[tensor(0.), tensor(1.)], [tensor(1.), tensor(0.)], [tensor(1.), tensor(4.)]]"
      ]
     },
     "metadata": {},
     "execution_count": 14
    }
   ],
   "source": [
    "matches"
   ]
  },
  {
   "cell_type": "code",
   "execution_count": 15,
   "metadata": {},
   "outputs": [
    {
     "output_type": "execute_result",
     "data": {
      "text/plain": [
       "[[tensor(0.), tensor(1.)], [tensor(1.), tensor(0.)], [tensor(1.), tensor(4.)]]"
      ]
     },
     "metadata": {},
     "execution_count": 15
    }
   ],
   "source": [
    "[[((ex-me)**2).mean() for me in torch.split(mem, 1, dim=0)] for ex in torch.split(exa, 1, dim=0)]"
   ]
  },
  {
   "cell_type": "code",
   "execution_count": 16,
   "metadata": {},
   "outputs": [
    {
     "output_type": "execute_result",
     "data": {
      "text/plain": [
       "tensor([[0., 1.],\n",
       "        [1., 0.],\n",
       "        [1., 4.]])"
      ]
     },
     "metadata": {},
     "execution_count": 16
    }
   ],
   "source": [
    "torch.Tensor([[((ex-me)**2).mean() for me in torch.split(mem, 1, dim=0)] for ex in torch.split(exa, 1, dim=0)])"
   ]
  },
  {
   "cell_type": "code",
   "execution_count": 17,
   "metadata": {},
   "outputs": [
    {
     "output_type": "stream",
     "name": "stdout",
     "text": [
      "==========\nMemory  : tensor([[1., 2., 3., 4.]])\nExample : tensor([[1., 2., 3., 4.]])\ndiff    : tensor([[0., 0., 0., 0.]])\ndiff**2 : tensor([[0., 0., 0., 0.]])\nmse     : 0.0\n==========\nMemory  : tensor([[0., 1., 2., 3.]])\nExample : tensor([[1., 2., 3., 4.]])\ndiff    : tensor([[1., 1., 1., 1.]])\ndiff**2 : tensor([[1., 1., 1., 1.]])\nmse     : 1.0\n[tensor(0.), tensor(1.)]\n==========\nMemory  : tensor([[1., 2., 3., 4.]])\nExample : tensor([[0., 1., 2., 3.]])\ndiff    : tensor([[-1., -1., -1., -1.]])\ndiff**2 : tensor([[1., 1., 1., 1.]])\nmse     : 1.0\n==========\nMemory  : tensor([[0., 1., 2., 3.]])\nExample : tensor([[0., 1., 2., 3.]])\ndiff    : tensor([[0., 0., 0., 0.]])\ndiff**2 : tensor([[0., 0., 0., 0.]])\nmse     : 0.0\n[tensor(1.), tensor(0.)]\n==========\nMemory  : tensor([[1., 2., 3., 4.]])\nExample : tensor([[2., 3., 4., 5.]])\ndiff    : tensor([[1., 1., 1., 1.]])\ndiff**2 : tensor([[1., 1., 1., 1.]])\nmse     : 1.0\n==========\nMemory  : tensor([[0., 1., 2., 3.]])\nExample : tensor([[2., 3., 4., 5.]])\ndiff    : tensor([[2., 2., 2., 2.]])\ndiff**2 : tensor([[4., 4., 4., 4.]])\nmse     : 4.0\n[tensor(1.), tensor(4.)]\n"
     ]
    }
   ],
   "source": [
    "matches = []\n",
    "for ex in torch.split(exa, 1, dim=0):\n",
    "    memmatch = []\n",
    "    for me in torch.split(mem, 1, dim=0):\n",
    "        memmatch.append(((ex-me)**2).mean())\n",
    "        print(\"==========\")\n",
    "        print(f\"Memory  : {me}\")\n",
    "        print(f\"Example : {ex}\")\n",
    "        print(f\"diff    : {ex-me}\")\n",
    "        print(f\"diff**2 : {(ex-me)**2}\")\n",
    "        print(f\"mse     : {((ex-me)**2).mean()}\")\n",
    "    print(memmatch)\n",
    "    matches.append(torch.stack(memmatch, 0))"
   ]
  },
  {
   "cell_type": "code",
   "execution_count": 18,
   "metadata": {},
   "outputs": [
    {
     "output_type": "execute_result",
     "data": {
      "text/plain": [
       "tensor([[0., 1.],\n",
       "        [1., 0.],\n",
       "        [1., 4.]])"
      ]
     },
     "metadata": {},
     "execution_count": 18
    }
   ],
   "source": [
    "torch.stack(matches)"
   ]
  },
  {
   "cell_type": "code",
   "execution_count": 21,
   "metadata": {},
   "outputs": [
    {
     "output_type": "execute_result",
     "data": {
      "text/plain": [
       "tensor([[0., 1.],\n",
       "        [1., 0.],\n",
       "        [1., 4.]])"
      ]
     },
     "metadata": {},
     "execution_count": 21
    }
   ],
   "source": [
    "matches = []\n",
    "for ex in torch.split(exa, 1, dim=0):\n",
    "    memmatch = ((ex-mem)**2).mean(1)\n",
    "    matches.append(memmatch)\n",
    "torch.stack(matches)"
   ]
  },
  {
   "cell_type": "code",
   "execution_count": null,
   "metadata": {},
   "outputs": [],
   "source": []
  }
 ]
}